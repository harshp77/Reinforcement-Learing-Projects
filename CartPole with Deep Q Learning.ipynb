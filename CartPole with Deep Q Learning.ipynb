{
 "cells": [
  {
   "cell_type": "code",
   "execution_count": 1,
   "id": "981b63a8",
   "metadata": {},
   "outputs": [],
   "source": [
    "import numpy as np\n",
    "import random\n",
    "import gym\n",
    "from collections import deque\n",
    "import tensorflow as tf\n",
    "from tensorflow import keras"
   ]
  },
  {
   "cell_type": "code",
   "execution_count": 2,
   "id": "b5817f7c",
   "metadata": {},
   "outputs": [],
   "source": [
    "from tensorflow.keras.models import Sequential,clone_model\n",
    "from tensorflow.keras.layers import Dense,Activation\n",
    "from tensorflow.keras.optimizers import Adam"
   ]
  },
  {
   "cell_type": "code",
   "execution_count": 3,
   "id": "f4c572cf",
   "metadata": {},
   "outputs": [],
   "source": [
    "env_name = 'CartPole-v1'\n",
    "env = gym.make(env_name)\n",
    "env.reset()\n",
    "env.close()"
   ]
  },
  {
   "cell_type": "code",
   "execution_count": 4,
   "id": "0d6cbcd0",
   "metadata": {},
   "outputs": [],
   "source": [
    "num_observation = env.observation_space.shape[0]"
   ]
  },
  {
   "cell_type": "code",
   "execution_count": 5,
   "id": "747ed91a",
   "metadata": {},
   "outputs": [],
   "source": [
    "num_actions = env.action_space.n"
   ]
  },
  {
   "cell_type": "code",
   "execution_count": 6,
   "id": "079d0a8a",
   "metadata": {},
   "outputs": [
    {
     "data": {
      "text/plain": [
       "2"
      ]
     },
     "execution_count": 6,
     "metadata": {},
     "output_type": "execute_result"
    }
   ],
   "source": [
    "num_actions"
   ]
  },
  {
   "cell_type": "code",
   "execution_count": 7,
   "id": "3e8bc79f",
   "metadata": {},
   "outputs": [],
   "source": [
    "model = Sequential()\n",
    "model.add(Dense(16,input_shape=(1,num_observation)))\n",
    "model.add(Activation('relu'))\n",
    "\n",
    "model.add(Dense(32))\n",
    "model.add(Activation('relu'))\n",
    "\n",
    "model.add(Dense(num_actions))\n",
    "model.add(Activation('linear'))\n",
    "\n"
   ]
  },
  {
   "cell_type": "code",
   "execution_count": 8,
   "id": "1dd734b6",
   "metadata": {},
   "outputs": [
    {
     "name": "stdout",
     "output_type": "stream",
     "text": [
      "Model: \"sequential\"\n",
      "_________________________________________________________________\n",
      "Layer (type)                 Output Shape              Param #   \n",
      "=================================================================\n",
      "dense (Dense)                (None, 1, 16)             80        \n",
      "_________________________________________________________________\n",
      "activation (Activation)      (None, 1, 16)             0         \n",
      "_________________________________________________________________\n",
      "dense_1 (Dense)              (None, 1, 32)             544       \n",
      "_________________________________________________________________\n",
      "activation_1 (Activation)    (None, 1, 32)             0         \n",
      "_________________________________________________________________\n",
      "dense_2 (Dense)              (None, 1, 2)              66        \n",
      "_________________________________________________________________\n",
      "activation_2 (Activation)    (None, 1, 2)              0         \n",
      "=================================================================\n",
      "Total params: 690\n",
      "Trainable params: 690\n",
      "Non-trainable params: 0\n",
      "_________________________________________________________________\n"
     ]
    }
   ],
   "source": [
    "model.summary()"
   ]
  },
  {
   "cell_type": "code",
   "execution_count": 9,
   "id": "95da5201",
   "metadata": {},
   "outputs": [],
   "source": [
    "target_model = clone_model(model)"
   ]
  },
  {
   "cell_type": "code",
   "execution_count": 17,
   "id": "089c0224",
   "metadata": {},
   "outputs": [],
   "source": [
    "EPOCHS = 100\n",
    "BATCH_SIZE = 32\n",
    "epsilon = 1.0\n",
    "EPSILON_REDUCE = 0.995\n",
    "\n",
    "LEARNING_RATE = 0.001\n",
    "GAMMA = 0.95"
   ]
  },
  {
   "cell_type": "code",
   "execution_count": 11,
   "id": "f179efc7",
   "metadata": {},
   "outputs": [],
   "source": [
    "def epsilon_greedy_action_selection(model, epsilon, observation):\n",
    "    if np.random.random() > epsilon:\n",
    "        prediction = model.predict(observation)  \n",
    "        action = np.argmax(prediction) \n",
    "    else:\n",
    "        action = np.random.randint(0, env.action_space.n)  \n",
    "    return action"
   ]
  },
  {
   "cell_type": "code",
   "execution_count": 12,
   "id": "8e448b04",
   "metadata": {},
   "outputs": [],
   "source": [
    "replay_buffer = deque(maxlen=20000)\n",
    "update_target_model = 10"
   ]
  },
  {
   "cell_type": "code",
   "execution_count": 13,
   "id": "fab43d93",
   "metadata": {},
   "outputs": [],
   "source": [
    "def replay(replay_buffer, batch_size, model, target_model):\n",
    "    \n",
    "\n",
    "    if len(replay_buffer) < batch_size: \n",
    "        return\n",
    "\n",
    "    samples = random.sample(replay_buffer, batch_size)  \n",
    "\n",
    "    target_batch = []  \n",
    "\n",
    "    zipped_samples = list(zip(*samples))  \n",
    "    states, actions, rewards, new_states, dones = zipped_samples  \n",
    "\n",
    "    targets = target_model.predict(np.array(states))\n",
    "\n",
    "    q_values = model.predict(np.array(new_states))  \n",
    "\n",
    "    for i in range(batch_size):  \n",
    "        \n",
    "\n",
    "        q_value = max(q_values[i][0])  \n",
    "\n",
    "        target = targets[i].copy()  \n",
    "        if dones[i]:\n",
    "            target[0][actions[i]] = rewards[i]\n",
    "        else:\n",
    "            target[0][actions[i]] = rewards[i] + q_value * GAMMA\n",
    "        target_batch.append(target)\n",
    "\n",
    "    model.fit(np.array(states), np.array(target_batch), epochs=1, verbose=0)  \n"
   ]
  },
  {
   "cell_type": "code",
   "execution_count": 14,
   "id": "aa375b53",
   "metadata": {},
   "outputs": [],
   "source": [
    "def update_model_handler(epoch,update_target_model,model,target_model):\n",
    "    \n",
    "    if epoch>0 and epoch % update_target_model==0:\n",
    "        target_model.set_weights(model.get_weights())"
   ]
  },
  {
   "cell_type": "code",
   "execution_count": 15,
   "id": "a8437379",
   "metadata": {},
   "outputs": [],
   "source": [
    "model.compile(loss='mse' , optimizer=(Adam(learning_rate=LEARNING_RATE)))"
   ]
  },
  {
   "cell_type": "code",
   "execution_count": 18,
   "id": "246b44c6",
   "metadata": {},
   "outputs": [
    {
     "name": "stdout",
     "output_type": "stream",
     "text": [
      "0: Points reached: 34 - epsilon: 0.995 - Best: 34\n",
      "25: Points reached: 78 - epsilon: 0.8778091417340573 - Best: 78\n",
      "50: Points reached: 34 - epsilon: 0.7744209942832988 - Best: 98\n",
      "75: Points reached: 59 - epsilon: 0.6832098777212641 - Best: 160\n"
     ]
    }
   ],
   "source": [
    "best_so_far = 0\n",
    "for epoch in range(EPOCHS):\n",
    "    observation = env.reset() \n",
    "\n",
    "    observation = observation.reshape([ 1, 4])  \n",
    "    done = False  \n",
    "    \n",
    "    points = 0\n",
    "    while not done: \n",
    "\n",
    "        action = epsilon_greedy_action_selection(model, epsilon, observation)\n",
    "        \n",
    "        next_observation, reward, done, info = env.step(action)  \n",
    "        next_observation = next_observation.reshape([ 1, 4])  \n",
    "        replay_buffer.append((observation, action, reward, next_observation, done))\n",
    "        observation = next_observation\n",
    "        points+=1\n",
    "\n",
    "        replay(replay_buffer, 32, model, target_model)\n",
    "\n",
    "    \n",
    "    epsilon *= EPSILON_REDUCE\n",
    "\n",
    "    update_model_handler(epoch, update_target_model, model, target_model)\n",
    "    \n",
    "    if points > best_so_far:\n",
    "        best_so_far = points\n",
    "    if epoch %25 == 0:\n",
    "        print(f\"{epoch}: Points reached: {points} - epsilon: {epsilon} - Best: {best_so_far}\")"
   ]
  },
  {
   "cell_type": "code",
   "execution_count": null,
   "id": "58bc514c",
   "metadata": {},
   "outputs": [],
   "source": [
    "# model.save_weights('./')\n",
    "# model.load_weights('./checkpoint')"
   ]
  },
  {
   "cell_type": "code",
   "execution_count": null,
   "id": "6d60d726",
   "metadata": {},
   "outputs": [],
   "source": [
    "# model.save('my_model1')\n",
    "# saved_model = tf.keras.models.load_model('my_model')"
   ]
  },
  {
   "cell_type": "code",
   "execution_count": 1,
   "id": "70cf9c96",
   "metadata": {},
   "outputs": [],
   "source": [
    "observation = env.reset()\n",
    "for counter in range(300):\n",
    "    env.render()\n",
    "\n",
    "    action = np.argmax(saved_model.predict(observation.reshape([1,1,4])))\n",
    "\n",
    "    observation, reward, done, info = env.step(action)\n",
    "    \n",
    "    if done:\n",
    "        print(f\"done\")\n",
    "        break\n",
    "env.close()"
   ]
  },
  {
   "cell_type": "code",
   "execution_count": null,
   "id": "7d765e95",
   "metadata": {},
   "outputs": [],
   "source": []
  }
 ],
 "metadata": {
  "kernelspec": {
   "display_name": "Python 3 (ipykernel)",
   "language": "python",
   "name": "python3"
  },
  "language_info": {
   "codemirror_mode": {
    "name": "ipython",
    "version": 3
   },
   "file_extension": ".py",
   "mimetype": "text/x-python",
   "name": "python",
   "nbconvert_exporter": "python",
   "pygments_lexer": "ipython3",
   "version": "3.9.7"
  }
 },
 "nbformat": 4,
 "nbformat_minor": 5
}
